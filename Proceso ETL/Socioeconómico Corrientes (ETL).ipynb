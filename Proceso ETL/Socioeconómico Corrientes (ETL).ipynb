{
 "cells": [
  {
   "cell_type": "markdown",
   "id": "0e03cb47",
   "metadata": {},
   "source": [
    "---\n",
    "#Socioeconómico Corrientes (ETL)\n",
    "---"
   ]
  },
  {
   "cell_type": "markdown",
   "id": "23a62f4c",
   "metadata": {},
   "source": [
    "\n",
    "---\n",
    "Cargar Dataset\n",
    "---"
   ]
  },
  {
   "cell_type": "code",
   "execution_count": null,
   "id": "606a4bb4",
   "metadata": {},
   "outputs": [],
   "source": [
    "import pandas as pd\n",
    "import numpy as np\n",
    "\n",
    "\n",
    "# el parámetro 'header=2' para decirle a Pandas que las cabeceras\n",
    "# están en la fila con índice 2 (la tercera fila del Excel).\n",
    "# descartará automáticamente las filas anteriores (0 y 1).\n",
    "\n",
    "estimacion = pd.read_excel(\n",
    "    \"../Datos Originales/estimacion-por-departamento_y_sector_series_empleo_y_salarios_mensual.xlsx\",\n",
    "    sheet_name=\"datos\",\n",
    "    header=2\n",
    ")\n",
    "\n",
    "\n",
    "\n",
    "# poblacion censo\n",
    "censo = pd.read_csv(\"../Datos Originales/Viv_Particulares_Censo2022.csv\",delimiter=\";\",encoding=\"utf-8\",thousands=\".\")"
   ]
  },
  {
   "cell_type": "markdown",
   "id": "a889807f",
   "metadata": {},
   "source": [
    "---\n",
    "Limpieza dataset\n",
    "---"
   ]
  },
  {
   "cell_type": "markdown",
   "id": "6d870e0b",
   "metadata": {},
   "source": [
    "\n",
    "🔷estimacion"
   ]
  },
  {
   "cell_type": "code",
   "execution_count": 12,
   "id": "cdd1a97b",
   "metadata": {},
   "outputs": [
    {
     "data": {
      "text/html": [
       "<div>\n",
       "<style scoped>\n",
       "    .dataframe tbody tr th:only-of-type {\n",
       "        vertical-align: middle;\n",
       "    }\n",
       "\n",
       "    .dataframe tbody tr th {\n",
       "        vertical-align: top;\n",
       "    }\n",
       "\n",
       "    .dataframe thead th {\n",
       "        text-align: right;\n",
       "    }\n",
       "</style>\n",
       "<table border=\"1\" class=\"dataframe\">\n",
       "  <thead>\n",
       "    <tr style=\"text-align: right;\">\n",
       "      <th></th>\n",
       "      <th>provincia_id</th>\n",
       "      <th>provincia</th>\n",
       "      <th>departamento_id</th>\n",
       "      <th>departamento</th>\n",
       "      <th>sector</th>\n",
       "      <th>periodo</th>\n",
       "      <th>empleos</th>\n",
       "      <th>salarios</th>\n",
       "    </tr>\n",
       "  </thead>\n",
       "  <tbody>\n",
       "    <tr>\n",
       "      <th>0</th>\n",
       "      <td>2</td>\n",
       "      <td>CIUDAD AUTONOMA DE BUENOS AIRES</td>\n",
       "      <td>2000</td>\n",
       "      <td>Sin dato de comuna</td>\n",
       "      <td>Servicios</td>\n",
       "      <td>201501</td>\n",
       "      <td>s.d.</td>\n",
       "      <td>s.d.</td>\n",
       "    </tr>\n",
       "    <tr>\n",
       "      <th>1</th>\n",
       "      <td>2</td>\n",
       "      <td>CIUDAD AUTONOMA DE BUENOS AIRES</td>\n",
       "      <td>2000</td>\n",
       "      <td>Sin dato de comuna</td>\n",
       "      <td>Servicios</td>\n",
       "      <td>201502</td>\n",
       "      <td>s.d.</td>\n",
       "      <td>s.d.</td>\n",
       "    </tr>\n",
       "    <tr>\n",
       "      <th>2</th>\n",
       "      <td>2</td>\n",
       "      <td>CIUDAD AUTONOMA DE BUENOS AIRES</td>\n",
       "      <td>2000</td>\n",
       "      <td>Sin dato de comuna</td>\n",
       "      <td>Servicios</td>\n",
       "      <td>201503</td>\n",
       "      <td>s.d.</td>\n",
       "      <td>s.d.</td>\n",
       "    </tr>\n",
       "    <tr>\n",
       "      <th>3</th>\n",
       "      <td>2</td>\n",
       "      <td>CIUDAD AUTONOMA DE BUENOS AIRES</td>\n",
       "      <td>2000</td>\n",
       "      <td>Sin dato de comuna</td>\n",
       "      <td>Servicios</td>\n",
       "      <td>201504</td>\n",
       "      <td>s.d.</td>\n",
       "      <td>s.d.</td>\n",
       "    </tr>\n",
       "    <tr>\n",
       "      <th>4</th>\n",
       "      <td>2</td>\n",
       "      <td>CIUDAD AUTONOMA DE BUENOS AIRES</td>\n",
       "      <td>2000</td>\n",
       "      <td>Sin dato de comuna</td>\n",
       "      <td>Servicios</td>\n",
       "      <td>201505</td>\n",
       "      <td>s.d.</td>\n",
       "      <td>s.d.</td>\n",
       "    </tr>\n",
       "  </tbody>\n",
       "</table>\n",
       "</div>"
      ],
      "text/plain": [
       "   provincia_id                        provincia  departamento_id  \\\n",
       "0             2  CIUDAD AUTONOMA DE BUENOS AIRES             2000   \n",
       "1             2  CIUDAD AUTONOMA DE BUENOS AIRES             2000   \n",
       "2             2  CIUDAD AUTONOMA DE BUENOS AIRES             2000   \n",
       "3             2  CIUDAD AUTONOMA DE BUENOS AIRES             2000   \n",
       "4             2  CIUDAD AUTONOMA DE BUENOS AIRES             2000   \n",
       "\n",
       "         departamento     sector  periodo empleos salarios  \n",
       "0  Sin dato de comuna  Servicios   201501    s.d.     s.d.  \n",
       "1  Sin dato de comuna  Servicios   201502    s.d.     s.d.  \n",
       "2  Sin dato de comuna  Servicios   201503    s.d.     s.d.  \n",
       "3  Sin dato de comuna  Servicios   201504    s.d.     s.d.  \n",
       "4  Sin dato de comuna  Servicios   201505    s.d.     s.d.  "
      ]
     },
     "execution_count": 12,
     "metadata": {},
     "output_type": "execute_result"
    }
   ],
   "source": [
    "estimacion.head()"
   ]
  },
  {
   "cell_type": "code",
   "execution_count": null,
   "id": "84d70af1",
   "metadata": {},
   "outputs": [
    {
     "data": {
      "text/html": [
       "<div>\n",
       "<style scoped>\n",
       "    .dataframe tbody tr th:only-of-type {\n",
       "        vertical-align: middle;\n",
       "    }\n",
       "\n",
       "    .dataframe tbody tr th {\n",
       "        vertical-align: top;\n",
       "    }\n",
       "\n",
       "    .dataframe thead th {\n",
       "        text-align: right;\n",
       "    }\n",
       "</style>\n",
       "<table border=\"1\" class=\"dataframe\">\n",
       "  <thead>\n",
       "    <tr style=\"text-align: right;\">\n",
       "      <th></th>\n",
       "      <th>provincia_id</th>\n",
       "      <th>provincia</th>\n",
       "      <th>departamento_id</th>\n",
       "      <th>departamento</th>\n",
       "      <th>sector</th>\n",
       "      <th>periodo</th>\n",
       "      <th>empleos</th>\n",
       "      <th>salarios</th>\n",
       "    </tr>\n",
       "  </thead>\n",
       "  <tbody>\n",
       "    <tr>\n",
       "      <th>114912</th>\n",
       "      <td>18</td>\n",
       "      <td>CORRIENTES</td>\n",
       "      <td>18007</td>\n",
       "      <td>Bella Vista</td>\n",
       "      <td>Servicios</td>\n",
       "      <td>201501</td>\n",
       "      <td>382</td>\n",
       "      <td>7303.593262</td>\n",
       "    </tr>\n",
       "    <tr>\n",
       "      <th>114913</th>\n",
       "      <td>18</td>\n",
       "      <td>CORRIENTES</td>\n",
       "      <td>18007</td>\n",
       "      <td>Bella Vista</td>\n",
       "      <td>Servicios</td>\n",
       "      <td>201502</td>\n",
       "      <td>409</td>\n",
       "      <td>7104.765625</td>\n",
       "    </tr>\n",
       "    <tr>\n",
       "      <th>114914</th>\n",
       "      <td>18</td>\n",
       "      <td>CORRIENTES</td>\n",
       "      <td>18007</td>\n",
       "      <td>Bella Vista</td>\n",
       "      <td>Servicios</td>\n",
       "      <td>201503</td>\n",
       "      <td>416</td>\n",
       "      <td>7409.928711</td>\n",
       "    </tr>\n",
       "    <tr>\n",
       "      <th>114915</th>\n",
       "      <td>18</td>\n",
       "      <td>CORRIENTES</td>\n",
       "      <td>18007</td>\n",
       "      <td>Bella Vista</td>\n",
       "      <td>Servicios</td>\n",
       "      <td>201504</td>\n",
       "      <td>441</td>\n",
       "      <td>7354.838867</td>\n",
       "    </tr>\n",
       "    <tr>\n",
       "      <th>114916</th>\n",
       "      <td>18</td>\n",
       "      <td>CORRIENTES</td>\n",
       "      <td>18007</td>\n",
       "      <td>Bella Vista</td>\n",
       "      <td>Servicios</td>\n",
       "      <td>201505</td>\n",
       "      <td>463</td>\n",
       "      <td>7530.930176</td>\n",
       "    </tr>\n",
       "  </tbody>\n",
       "</table>\n",
       "</div>"
      ],
      "text/plain": [
       "        provincia_id   provincia  departamento_id departamento     sector  \\\n",
       "114912            18  CORRIENTES            18007  Bella Vista  Servicios   \n",
       "114913            18  CORRIENTES            18007  Bella Vista  Servicios   \n",
       "114914            18  CORRIENTES            18007  Bella Vista  Servicios   \n",
       "114915            18  CORRIENTES            18007  Bella Vista  Servicios   \n",
       "114916            18  CORRIENTES            18007  Bella Vista  Servicios   \n",
       "\n",
       "        periodo empleos     salarios  \n",
       "114912   201501     382  7303.593262  \n",
       "114913   201502     409  7104.765625  \n",
       "114914   201503     416  7409.928711  \n",
       "114915   201504     441  7354.838867  \n",
       "114916   201505     463  7530.930176  "
      ]
     },
     "execution_count": 9,
     "metadata": {},
     "output_type": "execute_result"
    }
   ],
   "source": [
    "# filtrar solo para la provincia de Corrientes\n",
    "df_corrientes = estimacion[estimacion['provincia'] == 'CORRIENTES'].copy()\n",
    "df_corrientes.head()"
   ]
  },
  {
   "cell_type": "code",
   "execution_count": null,
   "id": "02455a6c",
   "metadata": {},
   "outputs": [
    {
     "name": "stderr",
     "output_type": "stream",
     "text": [
      "C:\\Users\\lucia\\AppData\\Local\\Temp\\ipykernel_16880\\1476387782.py:2: FutureWarning: Downcasting behavior in `replace` is deprecated and will be removed in a future version. To retain the old behavior, explicitly call `result.infer_objects(copy=False)`. To opt-in to the future behavior, set `pd.set_option('future.no_silent_downcasting', True)`\n",
      "  df_corrientes.replace('s.d.', np.nan, inplace=True)\n"
     ]
    }
   ],
   "source": [
    "# valores 's.d.' (sin dato)\n",
    "df_corrientes.replace('s.d.', np.nan, inplace=True)"
   ]
  },
  {
   "cell_type": "code",
   "execution_count": 11,
   "id": "bf9574f2",
   "metadata": {},
   "outputs": [],
   "source": [
    "# convertir columnas a tipos de datos numéricos\n",
    "df_corrientes['empleos'] = pd.to_numeric(df_corrientes['empleos'], errors='coerce')\n",
    "df_corrientes['salarios'] = pd.to_numeric(df_corrientes['salarios'], errors='coerce')"
   ]
  },
  {
   "cell_type": "code",
   "execution_count": 12,
   "id": "0b8427f7",
   "metadata": {},
   "outputs": [],
   "source": [
    "# convertir la columna 'periodo' a un formato de fecha real\n",
    "df_corrientes['fecha'] = pd.to_datetime(df_corrientes['periodo'], format='%Y%m')"
   ]
  },
  {
   "cell_type": "code",
   "execution_count": 14,
   "id": "49a3b448",
   "metadata": {},
   "outputs": [],
   "source": [
    "# convertir la columna 'periodo' a un formato de fecha real\n",
    "df_corrientes['fecha'] = pd.to_datetime(df_corrientes['periodo'], format='%Y%m')\n",
    "\n",
    "# nombres de departamentos a mayúsculas\n",
    "df_corrientes['departamento'] = df_corrientes['departamento'].str.upper()"
   ]
  },
  {
   "cell_type": "code",
   "execution_count": 15,
   "id": "6df608e8",
   "metadata": {},
   "outputs": [],
   "source": [
    "# renombrar columnas \n",
    "df_final = df_corrientes[['fecha', 'departamento', 'sector', 'empleos', 'salarios']].copy()\n",
    "df_final.rename(columns={'departamento': 'Departamento'}, inplace=True)"
   ]
  },
  {
   "cell_type": "code",
   "execution_count": 16,
   "id": "3b052c48",
   "metadata": {},
   "outputs": [
    {
     "data": {
      "text/html": [
       "<div>\n",
       "<style scoped>\n",
       "    .dataframe tbody tr th:only-of-type {\n",
       "        vertical-align: middle;\n",
       "    }\n",
       "\n",
       "    .dataframe tbody tr th {\n",
       "        vertical-align: top;\n",
       "    }\n",
       "\n",
       "    .dataframe thead th {\n",
       "        text-align: right;\n",
       "    }\n",
       "</style>\n",
       "<table border=\"1\" class=\"dataframe\">\n",
       "  <thead>\n",
       "    <tr style=\"text-align: right;\">\n",
       "      <th></th>\n",
       "      <th>fecha</th>\n",
       "      <th>Departamento</th>\n",
       "      <th>sector</th>\n",
       "      <th>empleos</th>\n",
       "      <th>salarios</th>\n",
       "    </tr>\n",
       "  </thead>\n",
       "  <tbody>\n",
       "    <tr>\n",
       "      <th>114912</th>\n",
       "      <td>2015-01-01</td>\n",
       "      <td>BELLA VISTA</td>\n",
       "      <td>Servicios</td>\n",
       "      <td>382.0</td>\n",
       "      <td>7303.593262</td>\n",
       "    </tr>\n",
       "    <tr>\n",
       "      <th>114913</th>\n",
       "      <td>2015-02-01</td>\n",
       "      <td>BELLA VISTA</td>\n",
       "      <td>Servicios</td>\n",
       "      <td>409.0</td>\n",
       "      <td>7104.765625</td>\n",
       "    </tr>\n",
       "    <tr>\n",
       "      <th>114914</th>\n",
       "      <td>2015-03-01</td>\n",
       "      <td>BELLA VISTA</td>\n",
       "      <td>Servicios</td>\n",
       "      <td>416.0</td>\n",
       "      <td>7409.928711</td>\n",
       "    </tr>\n",
       "    <tr>\n",
       "      <th>114915</th>\n",
       "      <td>2015-04-01</td>\n",
       "      <td>BELLA VISTA</td>\n",
       "      <td>Servicios</td>\n",
       "      <td>441.0</td>\n",
       "      <td>7354.838867</td>\n",
       "    </tr>\n",
       "    <tr>\n",
       "      <th>114916</th>\n",
       "      <td>2015-05-01</td>\n",
       "      <td>BELLA VISTA</td>\n",
       "      <td>Servicios</td>\n",
       "      <td>463.0</td>\n",
       "      <td>7530.930176</td>\n",
       "    </tr>\n",
       "  </tbody>\n",
       "</table>\n",
       "</div>"
      ],
      "text/plain": [
       "            fecha Departamento     sector  empleos     salarios\n",
       "114912 2015-01-01  BELLA VISTA  Servicios    382.0  7303.593262\n",
       "114913 2015-02-01  BELLA VISTA  Servicios    409.0  7104.765625\n",
       "114914 2015-03-01  BELLA VISTA  Servicios    416.0  7409.928711\n",
       "114915 2015-04-01  BELLA VISTA  Servicios    441.0  7354.838867\n",
       "114916 2015-05-01  BELLA VISTA  Servicios    463.0  7530.930176"
      ]
     },
     "execution_count": 16,
     "metadata": {},
     "output_type": "execute_result"
    }
   ],
   "source": [
    "df_final.head()"
   ]
  },
  {
   "cell_type": "code",
   "execution_count": 18,
   "id": "6b0ca20b",
   "metadata": {},
   "outputs": [
    {
     "data": {
      "text/plain": [
       "fecha              0\n",
       "Departamento       0\n",
       "sector             0\n",
       "empleos         4234\n",
       "salarios        4234\n",
       "dtype: int64"
      ]
     },
     "execution_count": 18,
     "metadata": {},
     "output_type": "execute_result"
    }
   ],
   "source": [
    "df_final.isnull().sum()"
   ]
  },
  {
   "cell_type": "code",
   "execution_count": null,
   "id": "4e5b9346",
   "metadata": {},
   "outputs": [],
   "source": [
    "# empleos         4234\n",
    "# salarios        4234\n",
    "#valores nulos en las columnas 'empleos' y 'salarios' manejar estos valores nulos en power bi"
   ]
  },
  {
   "cell_type": "code",
   "execution_count": null,
   "id": "a2a83dfc",
   "metadata": {},
   "outputs": [
    {
     "name": "stdout",
     "output_type": "stream",
     "text": [
      "Se encontraron 0 filas duplicadas.\n"
     ]
    }
   ],
   "source": [
    "# contar el número total de filas duplicadas\n",
    "\n",
    "numero_duplicados = df_final.duplicated().sum() # <-- .duplicated() marca todas las ocurrencias de un duplicado excepto la primera como True.\n",
    "\n",
    "print(f\"Se encontraron {numero_duplicados} filas duplicadas.\")"
   ]
  },
  {
   "cell_type": "code",
   "execution_count": 20,
   "id": "2453c32c",
   "metadata": {},
   "outputs": [],
   "source": [
    "# guardar el DataFrame final en un archivo CSV\n",
    "df_final.to_csv('empleos_corrientes_limpio.csv', index=False, encoding='utf-8')"
   ]
  },
  {
   "cell_type": "markdown",
   "id": "6b1cbe4e",
   "metadata": {},
   "source": [
    "🔷 Población Censo"
   ]
  },
  {
   "cell_type": "code",
   "execution_count": 12,
   "id": "27fb7572",
   "metadata": {},
   "outputs": [
    {
     "data": {
      "text/html": [
       "<div>\n",
       "<style scoped>\n",
       "    .dataframe tbody tr th:only-of-type {\n",
       "        vertical-align: middle;\n",
       "    }\n",
       "\n",
       "    .dataframe tbody tr th {\n",
       "        vertical-align: top;\n",
       "    }\n",
       "\n",
       "    .dataframe thead th {\n",
       "        text-align: right;\n",
       "    }\n",
       "</style>\n",
       "<table border=\"1\" class=\"dataframe\">\n",
       "  <thead>\n",
       "    <tr style=\"text-align: right;\">\n",
       "      <th></th>\n",
       "      <th>Region</th>\n",
       "      <th>Departamento</th>\n",
       "      <th>Municipio</th>\n",
       "      <th>Poblacion_2022</th>\n",
       "    </tr>\n",
       "  </thead>\n",
       "  <tbody>\n",
       "    <tr>\n",
       "      <th>0</th>\n",
       "      <td>RIO SANTA LUCIA</td>\n",
       "      <td>SAN ROQUE</td>\n",
       "      <td>9 DE JULIO</td>\n",
       "      <td>3402.0</td>\n",
       "    </tr>\n",
       "    <tr>\n",
       "      <th>1</th>\n",
       "      <td>TIERRA COLORADA</td>\n",
       "      <td>GENERAL ALVEAR</td>\n",
       "      <td>ALVEAR</td>\n",
       "      <td>8722.0</td>\n",
       "    </tr>\n",
       "    <tr>\n",
       "      <th>2</th>\n",
       "      <td>RIO SANTA LUCIA</td>\n",
       "      <td>BELLA VISTA</td>\n",
       "      <td>BELLA VISTA</td>\n",
       "      <td>41321.0</td>\n",
       "    </tr>\n",
       "    <tr>\n",
       "      <th>3</th>\n",
       "      <td>CENTRO SUR</td>\n",
       "      <td>PASO DE LOS LIBRES</td>\n",
       "      <td>BONPLAND</td>\n",
       "      <td>1369.0</td>\n",
       "    </tr>\n",
       "    <tr>\n",
       "      <th>4</th>\n",
       "      <td>NOROESTE</td>\n",
       "      <td>GENERAL PAZ</td>\n",
       "      <td>CAA CATI</td>\n",
       "      <td>8578.0</td>\n",
       "    </tr>\n",
       "  </tbody>\n",
       "</table>\n",
       "</div>"
      ],
      "text/plain": [
       "            Region        Departamento    Municipio  Poblacion_2022\n",
       "0  RIO SANTA LUCIA           SAN ROQUE   9 DE JULIO          3402.0\n",
       "1  TIERRA COLORADA      GENERAL ALVEAR       ALVEAR          8722.0\n",
       "2  RIO SANTA LUCIA         BELLA VISTA  BELLA VISTA         41321.0\n",
       "3       CENTRO SUR  PASO DE LOS LIBRES     BONPLAND          1369.0\n",
       "4         NOROESTE         GENERAL PAZ     CAA CATI          8578.0"
      ]
     },
     "execution_count": 12,
     "metadata": {},
     "output_type": "execute_result"
    }
   ],
   "source": [
    "censo.head()"
   ]
  },
  {
   "cell_type": "code",
   "execution_count": 13,
   "id": "08ec7005",
   "metadata": {},
   "outputs": [
    {
     "data": {
      "text/plain": [
       "(77, 4)"
      ]
     },
     "execution_count": 13,
     "metadata": {},
     "output_type": "execute_result"
    }
   ],
   "source": [
    "censo.shape"
   ]
  },
  {
   "cell_type": "code",
   "execution_count": 14,
   "id": "8c5c98df",
   "metadata": {},
   "outputs": [
    {
     "data": {
      "text/plain": [
       "Region            1\n",
       "Departamento      1\n",
       "Municipio         1\n",
       "Poblacion_2022    1\n",
       "dtype: int64"
      ]
     },
     "execution_count": 14,
     "metadata": {},
     "output_type": "execute_result"
    }
   ],
   "source": [
    "censo.isnull().sum()"
   ]
  },
  {
   "cell_type": "code",
   "execution_count": 15,
   "id": "6077050d",
   "metadata": {},
   "outputs": [
    {
     "data": {
      "text/html": [
       "<div>\n",
       "<style scoped>\n",
       "    .dataframe tbody tr th:only-of-type {\n",
       "        vertical-align: middle;\n",
       "    }\n",
       "\n",
       "    .dataframe tbody tr th {\n",
       "        vertical-align: top;\n",
       "    }\n",
       "\n",
       "    .dataframe thead th {\n",
       "        text-align: right;\n",
       "    }\n",
       "</style>\n",
       "<table border=\"1\" class=\"dataframe\">\n",
       "  <thead>\n",
       "    <tr style=\"text-align: right;\">\n",
       "      <th></th>\n",
       "      <th>Region</th>\n",
       "      <th>Departamento</th>\n",
       "      <th>Municipio</th>\n",
       "      <th>Poblacion_2022</th>\n",
       "    </tr>\n",
       "  </thead>\n",
       "  <tbody>\n",
       "    <tr>\n",
       "      <th>76</th>\n",
       "      <td>NaN</td>\n",
       "      <td>NaN</td>\n",
       "      <td>NaN</td>\n",
       "      <td>NaN</td>\n",
       "    </tr>\n",
       "  </tbody>\n",
       "</table>\n",
       "</div>"
      ],
      "text/plain": [
       "   Region Departamento Municipio  Poblacion_2022\n",
       "76    NaN          NaN       NaN             NaN"
      ]
     },
     "execution_count": 15,
     "metadata": {},
     "output_type": "execute_result"
    }
   ],
   "source": [
    "# encontrar filas con valores nulos en cualquier columna\n",
    "censo[censo.isnull().any(axis=1)]"
   ]
  },
  {
   "cell_type": "code",
   "execution_count": 21,
   "id": "92ab5f3c",
   "metadata": {},
   "outputs": [],
   "source": [
    "# crea un nuevo DataFrame llamado 'censo_limpio' sin las filas que tienen nulos\n",
    "censo_limpio = censo.dropna().copy()"
   ]
  },
  {
   "cell_type": "code",
   "execution_count": 22,
   "id": "acf7cde5",
   "metadata": {},
   "outputs": [
    {
     "data": {
      "text/plain": [
       "Region            0\n",
       "Departamento      0\n",
       "Municipio         0\n",
       "Poblacion_2022    0\n",
       "dtype: int64"
      ]
     },
     "execution_count": 22,
     "metadata": {},
     "output_type": "execute_result"
    }
   ],
   "source": [
    "# verifica si hay valores nulos en el nuevo DataFrame\n",
    "censo_limpio.isnull().sum()"
   ]
  },
  {
   "cell_type": "code",
   "execution_count": 23,
   "id": "08f2a78b",
   "metadata": {},
   "outputs": [],
   "source": [
    "# 1. eliminar los puntos de la columna de población.\n",
    "# 2. convertir la columna a tipo numérico (entero).\n",
    "censo_limpio['Poblacion_2022'] = censo_limpio['Poblacion_2022'].astype(int)"
   ]
  },
  {
   "cell_type": "code",
   "execution_count": 24,
   "id": "b19314e5",
   "metadata": {},
   "outputs": [],
   "source": [
    "censo_limpio['Departamento'] = censo_limpio['Departamento'].str.upper()"
   ]
  },
  {
   "cell_type": "code",
   "execution_count": 25,
   "id": "84b6d714",
   "metadata": {},
   "outputs": [],
   "source": [
    "# guardar el DataFrame limpio en un archivo CSV\n",
    "censo_limpio.to_csv(\"Censo_limpio.csv\", index=False)"
   ]
  }
 ],
 "metadata": {
  "kernelspec": {
   "display_name": "base",
   "language": "python",
   "name": "python3"
  },
  "language_info": {
   "codemirror_mode": {
    "name": "ipython",
    "version": 3
   },
   "file_extension": ".py",
   "mimetype": "text/x-python",
   "name": "python",
   "nbconvert_exporter": "python",
   "pygments_lexer": "ipython3",
   "version": "3.12.7"
  }
 },
 "nbformat": 4,
 "nbformat_minor": 5
}
